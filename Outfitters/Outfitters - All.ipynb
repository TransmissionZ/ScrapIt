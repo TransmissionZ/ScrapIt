{
 "cells": [
  {
   "cell_type": "markdown",
   "metadata": {},
   "source": [
    "# Outfitters - All Sections"
   ]
  },
  {
   "cell_type": "markdown",
   "metadata": {},
   "source": [
    "## Retrieving everything"
   ]
  },
  {
   "cell_type": "code",
   "execution_count": 1,
   "metadata": {},
   "outputs": [],
   "source": [
    "from bs4 import BeautifulSoup as soup\n",
    "from urllib.request import urlopen as uReq\n",
    "import urllib.request\n",
    "import pandas as pd\n",
    "import time\n",
    "import requests\n",
    "import json\n",
    "import os"
   ]
  },
  {
   "cell_type": "code",
   "execution_count": 2,
   "metadata": {},
   "outputs": [],
   "source": [
    "SectionNames = []\n",
    "sectionlinks = []\n",
    "faultylinks = [[],[],[],[],[],[]]\n",
    "pages = [[],[],[],[],[],[]]\n",
    "productlinks = [[],[],[],[],[],[]]\n",
    "all_rows = [[],[],[],[],[],[]]"
   ]
  },
  {
   "cell_type": "code",
   "execution_count": 3,
   "metadata": {},
   "outputs": [],
   "source": [
    "faultylinks2 = [[],[],[],[],[],[]]\n",
    "faultylinks3 = [[],[],[],[],[],[]]"
   ]
  },
  {
   "cell_type": "code",
   "execution_count": 4,
   "metadata": {},
   "outputs": [],
   "source": [
    "u = requests.get('https://outfitters.com.pk').text\n",
    "base_url = 'https://outfitters.com.pk'\n",
    "page_soup = soup(u, \"lxml\")\n",
    "for h in page_soup.findAll('div', {'class':['right-child', 'left-child']}):\n",
    "    SectionNames.append(os.path.basename(h.a['href']))\n",
    "    sectionlinks.append(base_url + h.a['href'] + '?page=1&view=all')"
   ]
  },
  {
   "cell_type": "code",
   "execution_count": 5,
   "metadata": {},
   "outputs": [
    {
     "data": {
      "text/plain": [
       "['https://outfitters.com.pk/collections/men?page=1&view=all',\n",
       " 'https://outfitters.com.pk/collections/women?page=1&view=all',\n",
       " 'https://outfitters.com.pk/collections/boys?page=1&view=all',\n",
       " 'https://outfitters.com.pk/collections/girls?page=1&view=all',\n",
       " 'https://outfitters.com.pk/collections/outwear-jackets?page=1&view=all']"
      ]
     },
     "execution_count": 5,
     "metadata": {},
     "output_type": "execute_result"
    }
   ],
   "source": [
    "sectionlinks"
   ]
  },
  {
   "cell_type": "code",
   "execution_count": 6,
   "metadata": {},
   "outputs": [
    {
     "name": "stdout",
     "output_type": "stream",
     "text": [
      "https://outfitters.com.pk/collections/men?page=2&view=all......CoMpLeTeD\n",
      "https://outfitters.com.pk/collections/men?page=3&view=all......CoMpLeTeD\n",
      "https://outfitters.com.pk/collections/men?page=4&view=all......CoMpLeTeD\n",
      "https://outfitters.com.pk/collections/women?page=2&view=all......CoMpLeTeD\n",
      "https://outfitters.com.pk/collections/women?page=3&view=all......CoMpLeTeD\n",
      "https://outfitters.com.pk/collections/boys?page=2&view=all......CoMpLeTeD\n",
      "https://outfitters.com.pk/collections/boys?page=3&view=all......CoMpLeTeD\n",
      "https://outfitters.com.pk/collections/boys?page=4&view=all......CoMpLeTeD\n",
      "https://outfitters.com.pk/collections/boys?page=5&view=all......CoMpLeTeD\n",
      "https://outfitters.com.pk/collections/boys?page=6&view=all......CoMpLeTeD\n",
      "https://outfitters.com.pk/collections/girls?page=2&view=all......CoMpLeTeD\n",
      "https://outfitters.com.pk/collections/girls?page=3&view=all......CoMpLeTeD\n",
      "https://outfitters.com.pk/collections/girls?page=4&view=all......CoMpLeTeD\n",
      "https://outfitters.com.pk/collections/girls?page=5&view=all......CoMpLeTeD\n",
      "https://outfitters.com.pk/collections/girls?page=6&view=all......CoMpLeTeD\n",
      "https://outfitters.com.pk/collections/outwear-jackets?page=2&view=all......CoMpLeTeD\n",
      "Wall time: 54.6 s\n"
     ]
    }
   ],
   "source": [
    "%%time\n",
    "#Scraping Product Links\n",
    "n = -1\n",
    "for link in sectionlinks:\n",
    "    n += 1\n",
    "    page_soup = soup(requests.get(link).text, 'lxml')\n",
    "    products = page_soup.findAll('div', {'class':'product-image'})\n",
    "    for k in products:\n",
    "        productlinks[n].append(base_url + k.a['href'])\n",
    "    pages = page_soup.find('div', {'class':'infinite-scrolling'})\n",
    "    if pages is not None:\n",
    "        while (pages is not None):\n",
    "            link2 = base_url + pages.a['href']\n",
    "            page_soup = soup(requests.get(link2).text, 'lxml')\n",
    "            products = page_soup.findAll('div', {'class':'product-image'})\n",
    "            for k in products:\n",
    "                productlinks[n].append(base_url + k.a['href'])\n",
    "            pages = page_soup.find('div', {'class':'infinite-scrolling'})\n",
    "            print(link2 + '......CoMpLeTeD')"
   ]
  },
  {
   "cell_type": "code",
   "execution_count": 3,
   "metadata": {},
   "outputs": [],
   "source": [
    "#with open('productlinksALL.txt', 'w') as filehandle:\n",
    "    #json.dump(productlinks, filehandle)\n",
    "    \n",
    "with open('productlinksALL.txt', 'r') as filehandle:\n",
    "    productlinks = json.load(filehandle)"
   ]
  },
  {
   "cell_type": "code",
   "execution_count": 7,
   "metadata": {},
   "outputs": [],
   "source": [
    "colors = []"
   ]
  },
  {
   "cell_type": "code",
   "execution_count": 8,
   "metadata": {},
   "outputs": [
    {
     "name": "stdout",
     "output_type": "stream",
     "text": [
      "Section 0 Completed\n",
      "https://outfitters.com.pk/collections/men/products/mtf491020-blk\n",
      "https://outfitters.com.pk/collections/men/products/maf491233-yel\n",
      "https://outfitters.com.pk/collections/men/products/mtf491060-hgr\n",
      "https://outfitters.com.pk/collections/men/products/mtf491020-bur\n",
      "https://outfitters.com.pk/collections/men/products/mtf491084-blk\n",
      "https://outfitters.com.pk/collections/men/products/mtf491083-blk\n",
      "https://outfitters.com.pk/collections/men/products/mtf491083tel\n",
      "https://outfitters.com.pk/collections/men/products/mtf491029-gry\n",
      "https://outfitters.com.pk/collections/men/products/mtf491063-bkw\n",
      "Section 1 Completed\n",
      "https://outfitters.com.pk/collections/women/products/wtf492018-plm\n",
      "https://outfitters.com.pk/collections/women/products/wtc492084-pnr\n",
      "https://outfitters.com.pk/collections/women/products/waf492214-yel\n",
      "https://outfitters.com.pk/collections/women/products/wtc492062-tel\n",
      "https://outfitters.com.pk/collections/women/products/wtc492062-blk\n",
      "https://outfitters.com.pk/collections/women/products/wtc492073-blk\n",
      "https://outfitters.com.pk/collections/women/products/wtf492064-ylm\n",
      "https://outfitters.com.pk/collections/women/products/wtf492018-wht\n",
      "https://outfitters.com.pk/collections/women/products/wtc492062-gry\n",
      "Section 2 Completed\n",
      "https://outfitters.com.pk/collections/boys/products/tbtf493033blg\n",
      "Section 3 Completed\n",
      "Section 4 Completed\n",
      "https://outfitters.com.pk/collections/outwear-jackets/products/wtf492018-plm\n",
      "https://outfitters.com.pk/collections/outwear-jackets/products/wtf492018-wht\n",
      "https://outfitters.com.pk/collections/outwear-jackets/products/mtf491020-blk\n",
      "https://outfitters.com.pk/collections/outwear-jackets/products/mtf491020-bur\n",
      "https://outfitters.com.pk/collections/outwear-jackets/products/mtf491029-gry\n",
      "Section 5 Completed\n",
      "Wall time: 28min 24s\n"
     ]
    }
   ],
   "source": [
    "%%time\n",
    "#Scraping ALL product\n",
    "i = -1\n",
    "for b in productlinks:\n",
    "    i += 1\n",
    "    h=0\n",
    "    path = 'G:/My Drive/FAST!!/1st Semester/Co-Curricular/DSC - Outreach/Saad/ScrapIt/Outfitters/' + SectionNames[i]\n",
    "    if not os.path.exists(path):\n",
    "        os.mkdir(path)\n",
    "    print(\"Section \" + str(i) + \" In Progress...\")\n",
    "    for link in b:\n",
    "        try:\n",
    "            s = requests.get(link).text\n",
    "            page_soup = soup(s, 'lxml')\n",
    "            name = None\n",
    "            prices = None\n",
    "            oldprice= newprice= color= all_sizes= sizes= Description = None\n",
    "            name = page_soup.find(\"h2\", {\"itemprop\":\"name\"}).text.strip()\n",
    "            #print(name)\n",
    "            prices = page_soup.find(\"div\", {'class':'prices'})('span')\n",
    "            oldprice = prices[0].text.strip()\n",
    "            newprice = prices[1].text.strip()\n",
    "            if (newprice == oldprice):\n",
    "                newprice = prices[2].text.strip()\n",
    "            op = int(oldprice.replace(\"PKR\", \"\").replace(\",\", \"\").strip())\n",
    "            np = int(newprice.replace(\"PKR\", \"\").replace(\",\", \"\").strip())\n",
    "            discount =str(int((op-np)/op * 100)) + \"%\"\n",
    "            #print(prices)\n",
    "            try:\n",
    "                color = page_soup.find(\"label\", {\"data-title\":name})\n",
    "                colors.append(color['data-variant'].strip())\n",
    "            except:\n",
    "                color = page_soup.find(\"div\", {\"class\":'tooltip'})\n",
    "                colors.append(color.text.strip())\n",
    "\n",
    "            #print(colors)\n",
    "            sizes = page_soup.find(\"div\", {'class':'wrapper text-center Size'})('div')\n",
    "            #print(sizes)\n",
    "            all_sizes = []\n",
    "            for size in sizes[1:]:\n",
    "                all_sizes.append(size['data-value'])\n",
    "\n",
    "            all_sizes = ','.join(all_sizes)\n",
    "            D = page_soup.find('div', {'class':'lang1'}).text\n",
    "            #print(D)\n",
    "            Desc = D.find('Description')\n",
    "            Det = D.find('Detail')\n",
    "            SizenFit = D.find('Fits')\n",
    "            CompnCare = D.find('Care')\n",
    "            if (SizenFit != -1 and (Desc != -1 or Det != -1)):\n",
    "                if (Desc == -1):\n",
    "                    Description = D[Desc+16:SizenFit-7].strip()\n",
    "                else:\n",
    "                    Description = D[Desc+12:SizenFit-7].strip()\n",
    "            elif (SizenFit == -1 and CompnCare != -1):\n",
    "                Description = D[Desc+12: CompnCare-14].strip()\n",
    "            if CompnCare is not -1:\n",
    "                care = D[CompnCare+5:].strip()\n",
    "            \n",
    "            row = {\"Name\":name, \"Description\":Description, \"Composition & Care\": care, \"Old Price\":oldprice, \"New Price\": newprice,\"Discount\":discount, \"Size(s)\": all_sizes, \"Product Link\":link}\n",
    "            all_rows[i].append(row)\n",
    "            #images:\n",
    "            i = page_soup.find(\"ul\", {'id':'more-view-carousel'})('li')\n",
    "            m = -1  \n",
    "            for a in i:\n",
    "                m += 1\n",
    "                filename = str(h) + '.' + str(m) + '.jpg'\n",
    "                urllib.request.urlretrieve(\"https:\" + a.a['data-image'], os.path.join(path, filename))\n",
    "        except:\n",
    "            faultylinks[i].append(link)\n",
    "            print(link)"
   ]
  },
  {
   "cell_type": "code",
   "execution_count": 20,
   "metadata": {},
   "outputs": [
    {
     "name": "stdout",
     "output_type": "stream",
     "text": [
      "RED BLK\n",
      "1490 2090 28%\n"
     ]
    }
   ],
   "source": [
    "link = 'https://outfitters.com.pk/collections/men/products/mtf491067rdb?variant=31672903663696'\n",
    "s = requests.get(link).text\n",
    "page_soup = soup(s, 'lxml')\n",
    "h=0\n",
    "name = None\n",
    "prices = None\n",
    "discount = None\n",
    "oldprice= newprice= color= all_sizes= sizes= Description = None\n",
    "name = page_soup.find(\"h2\", {\"itemprop\":\"name\"}).text.strip()\n",
    "#print(name)\n",
    "prices = page_soup.find(\"div\", {'class':'prices'})('span')\n",
    "oldprice = prices[0].text.strip()\n",
    "newprice = prices[1].text.strip()\n",
    "if (newprice == oldprice):\n",
    "    newprice = prices[2].text.strip()\n",
    "op = int(oldprice.replace(\"PKR\", \"\").replace(\",\", \"\").strip())\n",
    "np = int(newprice.replace(\"PKR\", \"\").replace(\",\", \"\").strip())\n",
    "discount =str(int((op-np)/op * 100)) + \"%\"\n",
    "#print(prices)\n",
    "#color = page_soup.find(\"label\", {\"data-title\":name})\n",
    "color = page_soup.find(\"div\", {\"class\":'tooltip'})\n",
    "print(color.text)\n",
    "#colors.append(color['data-variant'].strip())\n",
    "#print(colors)\n",
    "sizes = page_soup.find(\"div\", {'class':'wrapper text-center Size'})('div')\n",
    "#print(sizes)\n",
    "all_sizes = []\n",
    "for size in sizes[1:]:\n",
    "    all_sizes.append(size['data-value'])\n",
    "\n",
    "all_sizes = ','.join(all_sizes)\n",
    "D = page_soup.find('div', {'class':'lang1'}).text\n",
    "#print(D)\n",
    "Desc = D.find('Description')\n",
    "Det = D.find('Detail')\n",
    "SizenFit = D.find('Fits')\n",
    "CompnCare = D.find('Care')\n",
    "if (SizenFit != -1 and (Desc != -1 or Det != -1)):\n",
    "    if (Desc == -1):\n",
    "        Description = D[Desc+16:SizenFit-7].strip()\n",
    "    else:\n",
    "        Description = D[Desc+12:SizenFit-7].strip()\n",
    "elif (SizenFit == -1 and CompnCare != -1):\n",
    "    Description = D[Desc+12: CompnCare-14].strip()\n",
    "\n",
    "care = D[CompnCare+5:].strip()\n",
    "#images:\n",
    "i = page_soup.find(\"ul\", {'id':'more-view-carousel'})('li')\n",
    "m = -1  \n",
    "for a in i:\n",
    "    m += 1\n",
    "    filename = str(h) + '.' + str(m) + '.jpg'\n",
    "    urllib.request.urlretrieve(\"https:\" + a.a['data-image'], os.path.join(path, filename))\n",
    "#print(Description)\n",
    "row = {\"Name\":name, \"Description\":Description, \"Composition & Care\": care, \"Old Price\":oldprice, \"New Price\": newprice,\"Discount\":discount, \"Size(s)\": all_sizes, \"Product Link\":link}\n",
    "print(np, op, discount)"
   ]
  },
  {
   "cell_type": "code",
   "execution_count": 10,
   "metadata": {},
   "outputs": [
    {
     "name": "stdout",
     "output_type": "stream",
     "text": [
      "G:/My Drive/FAST!!/1st Semester/Co-Curricular/DSC - Outreach/Saad/ScrapIt/Outfitters/men\n",
      "G:/My Drive/FAST!!/1st Semester/Co-Curricular/DSC - Outreach/Saad/ScrapIt/Outfitters/women\n",
      "G:/My Drive/FAST!!/1st Semester/Co-Curricular/DSC - Outreach/Saad/ScrapIt/Outfitters/boys\n",
      "G:/My Drive/FAST!!/1st Semester/Co-Curricular/DSC - Outreach/Saad/ScrapIt/Outfitters/girls\n",
      "G:/My Drive/FAST!!/1st Semester/Co-Curricular/DSC - Outreach/Saad/ScrapIt/Outfitters/outwear-jackets\n",
      "Wall time: 115 ms\n"
     ]
    }
   ],
   "source": [
    "%%time\n",
    "for i in range(len(sectionlinks)):\n",
    "    products = pd.DataFrame(all_rows[i], columns = [\"Name\", \"Description\", \"Composition & Care\", \"Old Price\", \"New Price\",\"Discount\", \"Size(s)\",\"Product Link\"])\n",
    "    path = 'G:/My Drive/FAST!!/1st Semester/Co-Curricular/DSC - Outreach/Saad/ScrapIt/Outfitters/' + SectionNames[i]\n",
    "    if not os.path.exists(path):\n",
    "        os.mkdir(path)\n",
    "    print(path)\n",
    "    products.to_csv(os.path.join(path, SectionNames[i] + \"_all.csv\"), encoding='utf-8')"
   ]
  },
  {
   "cell_type": "code",
   "execution_count": null,
   "metadata": {},
   "outputs": [],
   "source": []
  }
 ],
 "metadata": {
  "kernelspec": {
   "display_name": "Python 3",
   "language": "python",
   "name": "python3"
  },
  "language_info": {
   "codemirror_mode": {
    "name": "ipython",
    "version": 3
   },
   "file_extension": ".py",
   "mimetype": "text/x-python",
   "name": "python",
   "nbconvert_exporter": "python",
   "pygments_lexer": "ipython3",
   "version": "3.7.3"
  }
 },
 "nbformat": 4,
 "nbformat_minor": 2
}
